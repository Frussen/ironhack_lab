{
 "cells": [
  {
   "cell_type": "code",
   "execution_count": null,
   "id": "8ee5db20",
   "metadata": {},
   "outputs": [],
   "source": [
    "# It is assumed that the mean systolic blood pressure is μ = 120 mm Hg. In the Honolulu Heart Study, a sample of n = 100 people had an average systolic blood pressure of 130.1 mm Hg with a standard deviation of 21.21 mm Hg. Is the group significantly different (with respect to systolic blood pressure!) from the regular population?"
   ]
  },
  {
   "cell_type": "markdown",
   "id": "301304fe",
   "metadata": {},
   "source": [
    "Set up the hypothesis test.\n",
    "- H0: μ = 120 mm Hg   (group not significally different from the population)\n",
    "- HA: μ != 120 mm Hg   (group significally different from the population)\n",
    "\n",
    "Is the group statistically different from the regular population?\n"
   ]
  },
  {
   "cell_type": "code",
   "execution_count": 22,
   "id": "b6cdffc2",
   "metadata": {},
   "outputs": [
    {
     "name": "stdout",
     "output_type": "stream",
     "text": [
      "The group is significally different from the population!!\n",
      "Consequence: we cannot use the study to confirm hypotesis for the entire population\n"
     ]
    }
   ],
   "source": [
    "import scipy.stats as stats\n",
    "\n",
    "# Write down all the steps followed for setting up the test.\n",
    "pop_mean = 120\n",
    "n = 100\n",
    "x_ = 130.1\n",
    "S = 21.21\n",
    "\n",
    "# We don't have the pop_std so we will use the student statistic with t-score\n",
    "t_score = (x_ - pop_mean)/(S/np.sqrt(n))\n",
    "cv = stats.t.ppf(0.975, 99)\n",
    "\n",
    "if t_score < (-1)*cv or t_score > cv:\n",
    "    print(\"The group is significally different from the population!!\")\n",
    "else:\n",
    "    print(\"Nothing abnormal, we cannot draw any conclusion\")\n",
    "    \n",
    "# What decision can you make based on this calculated value?\n",
    "print(\"Consequence: we cannot use the study to confirm hypotesis for the entire population\")"
   ]
  },
  {
   "cell_type": "code",
   "execution_count": 23,
   "id": "5412c893",
   "metadata": {},
   "outputs": [],
   "source": [
    "# In a packing plant, a machine packs cartons with jars. It is supposed that a new machine will pack faster on the average than the machine currently used. To test that hypothesis, the times it takes each machine to pack ten cartons are recorded. The results, in seconds, are shown in the tables in the file Data/machine.txt. Assume that there is sufficient evidence to conduct the t test, does the data provide sufficient evidence to show if one machine is better than the other.\n",
    "\n",
    "# Hint: use two sample t-test\n",
    "# t= (sample_mean(x1) - sample_mean(x2)) / sqrt(square(s1)/n1 + square(s2)/n2 )\n",
    "\n",
    "import pandas as pd\n",
    "import numpy as np\n",
    "\n",
    "df = pd.read_csv(\"Data_Machine.txt\", sep=\"\\t\")\n",
    "\n",
    "old_mean = df['Old Machine'].mean()\n",
    "new_mean = df['New Machine'].mean()\n",
    "\n",
    "old_std = df['Old Machine'].std()\n",
    "new_std = df['New Machine'].std()\n",
    "\n",
    "\n",
    "t = (old_mean - new_mean) / np.sqrt((old_std**2+new_std**2)/len(df))"
   ]
  },
  {
   "cell_type": "code",
   "execution_count": null,
   "id": "8f46e42b",
   "metadata": {},
   "outputs": [],
   "source": []
  }
 ],
 "metadata": {
  "kernelspec": {
   "display_name": "Python 3 (ipykernel)",
   "language": "python",
   "name": "python3"
  },
  "language_info": {
   "codemirror_mode": {
    "name": "ipython",
    "version": 3
   },
   "file_extension": ".py",
   "mimetype": "text/x-python",
   "name": "python",
   "nbconvert_exporter": "python",
   "pygments_lexer": "ipython3",
   "version": "3.10.9"
  }
 },
 "nbformat": 4,
 "nbformat_minor": 5
}
