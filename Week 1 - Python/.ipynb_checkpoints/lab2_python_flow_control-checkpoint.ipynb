{
 "cells": [
  {
   "cell_type": "markdown",
   "id": "d3bfc191-8885-42ee-b0a0-bbab867c6f9f",
   "metadata": {
    "tags": []
   },
   "source": [
    "# Lab | Flow Control"
   ]
  },
  {
   "cell_type": "markdown",
   "id": "3851fcd1-cf98-4653-9c89-e003b7ec9400",
   "metadata": {},
   "source": [
    "## Exercise: Managing Customer Orders Optimized\n",
    "\n",
    "In the last lab, you were starting an online store that sells various products. To ensure smooth operations, you developed a program that manages customer orders and inventory.\n",
    "\n",
    "You did so without using flow control. Let's go a step further and improve this code.\n",
    "\n",
    "Follow the steps below to complete the exercise:\n",
    "\n",
    "1. Look at your code from the lab data structures, and improve repeated code with loops.\n",
    "\n",
    "2. Instead of asking the user to input the name of three products that a customer wants to order, do the following:\n",
    "    \n",
    "    a. Prompt the user to enter the name of a product that a customer wants to order.\n",
    "    \n",
    "    b. Add the product name to the \"customer_orders\" set.\n",
    "    \n",
    "    c. Ask the user if they want to add another product (yes/no).\n",
    "    \n",
    "    d. Continue the loop until the user does not want to add another product.\n",
    "\n",
    "3. Instead of updating the inventory by subtracting 1 from the quantity of each product, only do it for  the products that were ordered (those in \"customer_orders\")."
   ]
  },
  {
   "cell_type": "code",
   "execution_count": 1,
   "id": "23dcc879",
   "metadata": {},
   "outputs": [
    {
     "name": "stdout",
     "output_type": "stream",
     "text": [
      "Insert the number of t-shirt available: 2\n",
      "Insert the number of mug available: 2\n",
      "Insert the number of hat available: 2\n",
      "Insert the number of book available: 2\n",
      "Insert the number of keychain available: 2\n",
      "{'t-shirt': 2, 'mug': 2, 'hat': 2, 'book': 2, 'keychain': 2}\n",
      "\n",
      "\n",
      "Please choose a product from the following list: ['t-shirt', 'mug', 'hat', 'book', 'keychain']\n",
      "New product: mug\n",
      "Add another product? (Y/N): y\n",
      "New product: hat\n",
      "Add another product? (Y/N): y\n",
      "New product: hat\n",
      "Add another product? (Y/N): n\n",
      "\n",
      "Here are the products that you have ordered: {'hat', 'mug'}\n",
      "\n",
      "Order Statistics:\n",
      "Total Products Ordered:  2\n",
      "Percentage of Products Ordered:  20%\n",
      "\n",
      "-Inventory-\n",
      "t-shirt: 2\n",
      "mug: 1\n",
      "hat: 1\n",
      "book: 2\n",
      "keychain: 2\n"
     ]
    }
   ],
   "source": [
    "products = ['t-shirt', 'mug', 'hat', 'book', 'keychain']\n",
    "inventory = dict()\n",
    "customer_orders = set()\n",
    "\n",
    "\n",
    "for product in products:\n",
    "    n = int(input(f\"Insert the number of {product} available: \"))\n",
    "    inventory[product] = n\n",
    "print(inventory)\n",
    "\n",
    "\n",
    "print(f\"\\n\\nPlease choose a product from the following list: {products}\")\n",
    "another = 'y'   \n",
    "while another not in ['n','N']:\n",
    "    picked = input(\"Product: \")\n",
    "    while(picked not in products):\n",
    "        print(\"The input given is not a product, try again!\")\n",
    "        picked = input(\"New product: \")\n",
    "    customer_orders.add(picked)\n",
    "    another = input(\"Add another product? (Y/N): \")\n",
    "    while another not in ['y','Y','n','N']:\n",
    "        print(\"The input has to be Y or N, try again!\")\n",
    "        another = input(\"Add another product? (Y/N): \")\n",
    "    \n",
    "order_status = tuple((len(customer_orders), int(len(customer_orders)/sum(inventory.values())*100)))\n",
    "                     \n",
    "                     \n",
    "print(\"\\nHere are the products that you have ordered:\", customer_orders)\n",
    "print(\"\\nOrder Statistics:\")\n",
    "print(\"Total Products Ordered: \", order_status[0])\n",
    "print(\"Percentage of Products Ordered: \", f\"{order_status[1]}%\")\n",
    "\n",
    "\n",
    "for product in customer_orders:\n",
    "    inventory[product] -= 1\n",
    "print(\"\\n-Inventory-\")\n",
    "for product in inventory.items():\n",
    "    print(f\"{product[0]}:\", product[1])\n"
   ]
  },
  {
   "cell_type": "code",
   "execution_count": null,
   "id": "224c0514",
   "metadata": {},
   "outputs": [],
   "source": []
  }
 ],
 "metadata": {
  "kernelspec": {
   "display_name": "Python 3 (ipykernel)",
   "language": "python",
   "name": "python3"
  },
  "language_info": {
   "codemirror_mode": {
    "name": "ipython",
    "version": 3
   },
   "file_extension": ".py",
   "mimetype": "text/x-python",
   "name": "python",
   "nbconvert_exporter": "python",
   "pygments_lexer": "ipython3",
   "version": "3.10.9"
  }
 },
 "nbformat": 4,
 "nbformat_minor": 5
}
