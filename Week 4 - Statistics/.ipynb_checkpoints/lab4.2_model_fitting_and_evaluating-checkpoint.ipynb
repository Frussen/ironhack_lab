{
 "cells": [
  {
   "cell_type": "code",
   "execution_count": 97,
   "id": "73e1cdc7",
   "metadata": {},
   "outputs": [
    {
     "data": {
      "text/plain": [
       "<seaborn.axisgrid.FacetGrid at 0x28bb5bfd0>"
      ]
     },
     "execution_count": 97,
     "metadata": {},
     "output_type": "execute_result"
    },
    {
     "data": {
      "image/png": "[encoded data removed]",
      "text/plain": [
       "<Figure size 500x500 with 1 Axes>"
      ]
     },
     "metadata": {},
     "output_type": "display_data"
    }
   ],
   "source": [
    "# Linear Regression\n",
    "\n",
    "import pandas as pd\n",
    "import numpy as np\n",
    "import seaborn as sns\n",
    "import matplotlib.pyplot as plt\n",
    "\n",
    "from sklearn.model_selection import train_test_split\n",
    "from sklearn.preprocessing import MinMaxScaler\n",
    "from sklearn.linear_model import LinearRegression\n",
    "from sklearn.metrics import mean_squared_error as mse\n",
    "\n",
    "df = pd.read_csv('Data_Marketing_Customer_Analysis_Round3.csv')\n",
    "df.dropna(inplace=True)\n",
    "sns.displot(df['total_claim_amount'])"
   ]
  },
  {
   "cell_type": "code",
   "execution_count": 98,
   "id": "78669471",
   "metadata": {},
   "outputs": [
    {
     "data": {
      "text/html": [
       "<div>\n",
       "<style scoped>\n",
       "    .dataframe tbody tr th:only-of-type {\n",
       "        vertical-align: middle;\n",
       "    }\n",
       "\n",
       "    .dataframe tbody tr th {\n",
       "        vertical-align: top;\n",
       "    }\n",
       "\n",
       "    .dataframe thead th {\n",
       "        text-align: right;\n",
       "    }\n",
       "</style>\n",
       "<table border=\"1\" class=\"dataframe\">\n",
       "  <thead>\n",
       "    <tr style=\"text-align: right;\">\n",
       "      <th></th>\n",
       "      <th>income</th>\n",
       "      <th>monthly_premium_auto</th>\n",
       "      <th>months_since_last_claim</th>\n",
       "      <th>months_since_policy_inception</th>\n",
       "      <th>number_of_open_complaints</th>\n",
       "      <th>number_of_policies</th>\n",
       "      <th>total_claim_amount</th>\n",
       "    </tr>\n",
       "  </thead>\n",
       "  <tbody>\n",
       "    <tr>\n",
       "      <th>0</th>\n",
       "      <td>48029</td>\n",
       "      <td>61</td>\n",
       "      <td>7</td>\n",
       "      <td>52</td>\n",
       "      <td>0</td>\n",
       "      <td>9</td>\n",
       "      <td>292</td>\n",
       "    </tr>\n",
       "    <tr>\n",
       "      <th>1</th>\n",
       "      <td>92260</td>\n",
       "      <td>64</td>\n",
       "      <td>3</td>\n",
       "      <td>26</td>\n",
       "      <td>0</td>\n",
       "      <td>1</td>\n",
       "      <td>744</td>\n",
       "    </tr>\n",
       "    <tr>\n",
       "      <th>2</th>\n",
       "      <td>22139</td>\n",
       "      <td>100</td>\n",
       "      <td>34</td>\n",
       "      <td>31</td>\n",
       "      <td>0</td>\n",
       "      <td>2</td>\n",
       "      <td>480</td>\n",
       "    </tr>\n",
       "    <tr>\n",
       "      <th>3</th>\n",
       "      <td>49078</td>\n",
       "      <td>97</td>\n",
       "      <td>10</td>\n",
       "      <td>3</td>\n",
       "      <td>0</td>\n",
       "      <td>2</td>\n",
       "      <td>484</td>\n",
       "    </tr>\n",
       "    <tr>\n",
       "      <th>4</th>\n",
       "      <td>23675</td>\n",
       "      <td>117</td>\n",
       "      <td>33</td>\n",
       "      <td>31</td>\n",
       "      <td>0</td>\n",
       "      <td>7</td>\n",
       "      <td>707</td>\n",
       "    </tr>\n",
       "    <tr>\n",
       "      <th>...</th>\n",
       "      <td>...</td>\n",
       "      <td>...</td>\n",
       "      <td>...</td>\n",
       "      <td>...</td>\n",
       "      <td>...</td>\n",
       "      <td>...</td>\n",
       "      <td>...</td>\n",
       "    </tr>\n",
       "    <tr>\n",
       "      <th>10684</th>\n",
       "      <td>61541</td>\n",
       "      <td>253</td>\n",
       "      <td>12</td>\n",
       "      <td>40</td>\n",
       "      <td>0</td>\n",
       "      <td>7</td>\n",
       "      <td>1214</td>\n",
       "    </tr>\n",
       "    <tr>\n",
       "      <th>10685</th>\n",
       "      <td>61146</td>\n",
       "      <td>65</td>\n",
       "      <td>7</td>\n",
       "      <td>68</td>\n",
       "      <td>0</td>\n",
       "      <td>6</td>\n",
       "      <td>273</td>\n",
       "    </tr>\n",
       "    <tr>\n",
       "      <th>10686</th>\n",
       "      <td>39837</td>\n",
       "      <td>201</td>\n",
       "      <td>11</td>\n",
       "      <td>63</td>\n",
       "      <td>0</td>\n",
       "      <td>2</td>\n",
       "      <td>381</td>\n",
       "    </tr>\n",
       "    <tr>\n",
       "      <th>10687</th>\n",
       "      <td>64195</td>\n",
       "      <td>158</td>\n",
       "      <td>0</td>\n",
       "      <td>27</td>\n",
       "      <td>4</td>\n",
       "      <td>6</td>\n",
       "      <td>618</td>\n",
       "    </tr>\n",
       "    <tr>\n",
       "      <th>10688</th>\n",
       "      <td>68942</td>\n",
       "      <td>101</td>\n",
       "      <td>31</td>\n",
       "      <td>1</td>\n",
       "      <td>0</td>\n",
       "      <td>3</td>\n",
       "      <td>1021</td>\n",
       "    </tr>\n",
       "  </tbody>\n",
       "</table>\n",
       "<p>10689 rows × 7 columns</p>\n",
       "</div>"
      ],
      "text/plain": [
       "       income  monthly_premium_auto  months_since_last_claim  \\\n",
       "0       48029                    61                        7   \n",
       "1       92260                    64                        3   \n",
       "2       22139                   100                       34   \n",
       "3       49078                    97                       10   \n",
       "4       23675                   117                       33   \n",
       "...       ...                   ...                      ...   \n",
       "10684   61541                   253                       12   \n",
       "10685   61146                    65                        7   \n",
       "10686   39837                   201                       11   \n",
       "10687   64195                   158                        0   \n",
       "10688   68942                   101                       31   \n",
       "\n",
       "       months_since_policy_inception  number_of_open_complaints  \\\n",
       "0                                 52                          0   \n",
       "1                                 26                          0   \n",
       "2                                 31                          0   \n",
       "3                                  3                          0   \n",
       "4                                 31                          0   \n",
       "...                              ...                        ...   \n",
       "10684                             40                          0   \n",
       "10685                             68                          0   \n",
       "10686                             63                          0   \n",
       "10687                             27                          4   \n",
       "10688                              1                          0   \n",
       "\n",
       "       number_of_policies  total_claim_amount  \n",
       "0                       9                 292  \n",
       "1                       1                 744  \n",
       "2                       2                 480  \n",
       "3                       2                 484  \n",
       "4                       7                 707  \n",
       "...                   ...                 ...  \n",
       "10684                   7                1214  \n",
       "10685                   6                 273  \n",
       "10686                   2                 381  \n",
       "10687                   6                 618  \n",
       "10688                   3                1021  \n",
       "\n",
       "[10689 rows x 7 columns]"
      ]
     },
     "execution_count": 98,
     "metadata": {},
     "output_type": "execute_result"
    }
   ],
   "source": [
    "numerical = df.select_dtypes(include=np.number)\n",
    "X = numerical.drop('customer_lifetime_value', axis=1)\n",
    "y = numerical['customer_lifetime_value']\n",
    "X"
   ]
  },
  {
   "cell_type": "code",
   "execution_count": 99,
   "id": "56716956",
   "metadata": {},
   "outputs": [
    {
     "data": {
      "text/plain": [
       "3487      4871\n",
       "668       9233\n",
       "10315     3203\n",
       "5332      5067\n",
       "1523      8427\n",
       "         ...  \n",
       "7089      3621\n",
       "2507      8283\n",
       "7965      4035\n",
       "8523      7240\n",
       "9803     10280\n",
       "Name: customer_lifetime_value, Length: 2138, dtype: int64"
      ]
     },
     "execution_count": 99,
     "metadata": {},
     "output_type": "execute_result"
    }
   ],
   "source": [
    "X_train, X_test, y_train, y_test = train_test_split(X, y, test_size=0.2, random_state=42)\n",
    "y_test"
   ]
  },
  {
   "cell_type": "code",
   "execution_count": 100,
   "id": "7d2b6b68",
   "metadata": {},
   "outputs": [],
   "source": [
    "scaler = MinMaxScaler()\n",
    "scaler.fit(np.array(X_train))\n",
    "X_train_scaled = scaler.transform(np.array(X_train))"
   ]
  },
  {
   "cell_type": "code",
   "execution_count": 101,
   "id": "cb19c7a9",
   "metadata": {},
   "outputs": [
    {
     "data": {
      "text/plain": [
       "array([ 1.15730306e+01,  2.02489595e+04,  1.12738458e+02,  2.35137903e+02,\n",
       "       -1.13848884e+03,  5.96742919e+02, -2.40026464e+03])"
      ]
     },
     "execution_count": 101,
     "metadata": {},
     "output_type": "execute_result"
    }
   ],
   "source": [
    "lm = LinearRegression() # fit_intercept = True\n",
    "model = lm.fit(X_train_scaled,y_train)\n",
    "\n",
    "model.intercept_\n",
    "model.coef_"
   ]
  },
  {
   "cell_type": "code",
   "execution_count": 102,
   "id": "454353d3",
   "metadata": {},
   "outputs": [],
   "source": [
    "X_test_scaled = scaler.transform(np.array(X_test))\n",
    "y_pred = model.predict(X_test_scaled).reshape(1,-1)[0]"
   ]
  },
  {
   "cell_type": "code",
   "execution_count": 103,
   "id": "bb6cdfe1",
   "metadata": {},
   "outputs": [
    {
     "data": {
      "text/html": [
       "<div>\n",
       "<style scoped>\n",
       "    .dataframe tbody tr th:only-of-type {\n",
       "        vertical-align: middle;\n",
       "    }\n",
       "\n",
       "    .dataframe tbody tr th {\n",
       "        vertical-align: top;\n",
       "    }\n",
       "\n",
       "    .dataframe thead th {\n",
       "        text-align: right;\n",
       "    }\n",
       "</style>\n",
       "<table border=\"1\" class=\"dataframe\">\n",
       "  <thead>\n",
       "    <tr style=\"text-align: right;\">\n",
       "      <th></th>\n",
       "      <th>y_test</th>\n",
       "      <th>y_pred</th>\n",
       "      <th>residual</th>\n",
       "    </tr>\n",
       "  </thead>\n",
       "  <tbody>\n",
       "    <tr>\n",
       "      <th>3487</th>\n",
       "      <td>4871</td>\n",
       "      <td>5755.762780</td>\n",
       "      <td>-884.762780</td>\n",
       "    </tr>\n",
       "    <tr>\n",
       "      <th>668</th>\n",
       "      <td>9233</td>\n",
       "      <td>9800.579897</td>\n",
       "      <td>-567.579897</td>\n",
       "    </tr>\n",
       "    <tr>\n",
       "      <th>10315</th>\n",
       "      <td>3203</td>\n",
       "      <td>6898.915316</td>\n",
       "      <td>-3695.915316</td>\n",
       "    </tr>\n",
       "    <tr>\n",
       "      <th>5332</th>\n",
       "      <td>5067</td>\n",
       "      <td>5541.075428</td>\n",
       "      <td>-474.075428</td>\n",
       "    </tr>\n",
       "    <tr>\n",
       "      <th>1523</th>\n",
       "      <td>8427</td>\n",
       "      <td>17504.713542</td>\n",
       "      <td>-9077.713542</td>\n",
       "    </tr>\n",
       "    <tr>\n",
       "      <th>...</th>\n",
       "      <td>...</td>\n",
       "      <td>...</td>\n",
       "      <td>...</td>\n",
       "    </tr>\n",
       "    <tr>\n",
       "      <th>7089</th>\n",
       "      <td>3621</td>\n",
       "      <td>8113.447822</td>\n",
       "      <td>-4492.447822</td>\n",
       "    </tr>\n",
       "    <tr>\n",
       "      <th>2507</th>\n",
       "      <td>8283</td>\n",
       "      <td>8818.607484</td>\n",
       "      <td>-535.607484</td>\n",
       "    </tr>\n",
       "    <tr>\n",
       "      <th>7965</th>\n",
       "      <td>4035</td>\n",
       "      <td>9477.695746</td>\n",
       "      <td>-5442.695746</td>\n",
       "    </tr>\n",
       "    <tr>\n",
       "      <th>8523</th>\n",
       "      <td>7240</td>\n",
       "      <td>8400.103967</td>\n",
       "      <td>-1160.103967</td>\n",
       "    </tr>\n",
       "    <tr>\n",
       "      <th>9803</th>\n",
       "      <td>10280</td>\n",
       "      <td>11131.356005</td>\n",
       "      <td>-851.356005</td>\n",
       "    </tr>\n",
       "  </tbody>\n",
       "</table>\n",
       "<p>2138 rows × 3 columns</p>\n",
       "</div>"
      ],
      "text/plain": [
       "       y_test        y_pred     residual\n",
       "3487     4871   5755.762780  -884.762780\n",
       "668      9233   9800.579897  -567.579897\n",
       "10315    3203   6898.915316 -3695.915316\n",
       "5332     5067   5541.075428  -474.075428\n",
       "1523     8427  17504.713542 -9077.713542\n",
       "...       ...           ...          ...\n",
       "7089     3621   8113.447822 -4492.447822\n",
       "2507     8283   8818.607484  -535.607484\n",
       "7965     4035   9477.695746 -5442.695746\n",
       "8523     7240   8400.103967 -1160.103967\n",
       "9803    10280  11131.356005  -851.356005\n",
       "\n",
       "[2138 rows x 3 columns]"
      ]
     },
     "execution_count": 103,
     "metadata": {},
     "output_type": "execute_result"
    }
   ],
   "source": [
    "residuals = np.array(y_test - y_pred)\n",
    "res_df = pd.DataFrame({'y_test':y_test, 'y_pred':y_pred, 'residual':residuals})\n",
    "res_df"
   ]
  },
  {
   "cell_type": "code",
   "execution_count": 104,
   "id": "47bc259d",
   "metadata": {},
   "outputs": [
    {
     "data": {
      "text/plain": [
       "6446.326202631442"
      ]
     },
     "execution_count": 104,
     "metadata": {},
     "output_type": "execute_result"
    }
   ],
   "source": [
    "mse(y_test,y_pred)\n",
    "np.sqrt(mse(y_test,y_pred))"
   ]
  },
  {
   "cell_type": "code",
   "execution_count": 107,
   "id": "6f1a2c68",
   "metadata": {},
   "outputs": [
    {
     "data": {
      "image/png": "[encoded data removed]",
      "text/plain": [
       "<Figure size 640x480 with 1 Axes>"
      ]
     },
     "metadata": {},
     "output_type": "display_data"
    }
   ],
   "source": [
    "m, b = np.polyfit(y_test, y_pred, 1)\n",
    "plt.plot(y_test, y_pred, 'yo', y_test, m*y_test+b, '--k')\n",
    "plt.show()"
   ]
  },
  {
   "cell_type": "code",
   "execution_count": 108,
   "id": "61a4439e",
   "metadata": {},
   "outputs": [
    {
     "data": {
      "text/plain": [
       "[<matplotlib.lines.Line2D at 0x28bea9e40>]"
      ]
     },
     "execution_count": 108,
     "metadata": {},
     "output_type": "execute_result"
    },
    {
     "data": {
      "image/png": "[encoded data removed]",
      "text/plain": [
       "<Figure size 640x480 with 1 Axes>"
      ]
     },
     "metadata": {},
     "output_type": "display_data"
    }
   ],
   "source": [
    "plt.plot(y_test, y_pred, 'o')\n",
    "m, b = np.polyfit(y_test, y_pred, 1)\n",
    "plt.plot(y_test, m*y_test+b)"
   ]
  },
  {
   "cell_type": "code",
   "execution_count": null,
   "id": "4ec0c5fa",
   "metadata": {},
   "outputs": [],
   "source": []
  }
 ],
 "metadata": {
  "kernelspec": {
   "display_name": "Python 3 (ipykernel)",
   "language": "python",
   "name": "python3"
  },
  "language_info": {
   "codemirror_mode": {
    "name": "ipython",
    "version": 3
   },
   "file_extension": ".py",
   "mimetype": "text/x-python",
   "name": "python",
   "nbconvert_exporter": "python",
   "pygments_lexer": "ipython3",
   "version": "3.10.9"
  }
 },
 "nbformat": 4,
 "nbformat_minor": 5
}
