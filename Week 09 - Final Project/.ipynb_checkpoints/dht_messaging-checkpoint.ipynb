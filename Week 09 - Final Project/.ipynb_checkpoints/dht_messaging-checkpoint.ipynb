{
 "cells": [
  {
   "cell_type": "code",
   "execution_count": 71,
   "id": "230e9ea5",
   "metadata": {},
   "outputs": [],
   "source": [
    "import pandas as pd\n",
    "import getpass\n",
    "import sqlalchemy as sa\n",
    "from sqlalchemy import create_engine\n",
    "\n",
    "import matplotlib.pyplot as plt\n",
    "from paho.mqtt import client as mqtt_client\n",
    "import time"
   ]
  },
  {
   "cell_type": "code",
   "execution_count": 51,
   "id": "5b3e2557",
   "metadata": {},
   "outputs": [
    {
     "name": "stdout",
     "output_type": "stream",
     "text": [
      "Your password:········\n"
     ]
    }
   ],
   "source": [
    "driver = 'mysql+pymysql'\n",
    "user = 'root'\n",
    "password = getpass.getpass(prompt='Your password:'\"\")\n",
    "ip = '127.0.0.1'\n",
    "connection_string = f'{driver}://{user}:{password}@{ip}'\n",
    "db_connection = sa.create_engine(connection_string)"
   ]
  },
  {
   "cell_type": "code",
   "execution_count": 52,
   "id": "0360ca3b",
   "metadata": {},
   "outputs": [
    {
     "data": {
      "text/html": [
       "<div>\n",
       "<style scoped>\n",
       "    .dataframe tbody tr th:only-of-type {\n",
       "        vertical-align: middle;\n",
       "    }\n",
       "\n",
       "    .dataframe tbody tr th {\n",
       "        vertical-align: top;\n",
       "    }\n",
       "\n",
       "    .dataframe thead th {\n",
       "        text-align: right;\n",
       "    }\n",
       "</style>\n",
       "<table border=\"1\" class=\"dataframe\">\n",
       "  <thead>\n",
       "    <tr style=\"text-align: right;\">\n",
       "      <th></th>\n",
       "      <th>timestamp</th>\n",
       "      <th>temperature</th>\n",
       "      <th>humidity</th>\n",
       "    </tr>\n",
       "  </thead>\n",
       "  <tbody>\n",
       "    <tr>\n",
       "      <th>0</th>\n",
       "      <td>2023-09-18 09:10:05</td>\n",
       "      <td>23.0</td>\n",
       "      <td>53.0</td>\n",
       "    </tr>\n",
       "    <tr>\n",
       "      <th>1</th>\n",
       "      <td>2023-09-18 09:10:30</td>\n",
       "      <td>23.0</td>\n",
       "      <td>52.0</td>\n",
       "    </tr>\n",
       "    <tr>\n",
       "      <th>2</th>\n",
       "      <td>2023-09-18 09:12:05</td>\n",
       "      <td>23.0</td>\n",
       "      <td>53.0</td>\n",
       "    </tr>\n",
       "    <tr>\n",
       "      <th>3</th>\n",
       "      <td>2023-09-18 09:12:26</td>\n",
       "      <td>23.0</td>\n",
       "      <td>52.0</td>\n",
       "    </tr>\n",
       "    <tr>\n",
       "      <th>4</th>\n",
       "      <td>2023-09-18 09:12:40</td>\n",
       "      <td>23.0</td>\n",
       "      <td>53.0</td>\n",
       "    </tr>\n",
       "    <tr>\n",
       "      <th>...</th>\n",
       "      <td>...</td>\n",
       "      <td>...</td>\n",
       "      <td>...</td>\n",
       "    </tr>\n",
       "    <tr>\n",
       "      <th>1697</th>\n",
       "      <td>2023-09-22 18:34:33</td>\n",
       "      <td>23.0</td>\n",
       "      <td>48.0</td>\n",
       "    </tr>\n",
       "    <tr>\n",
       "      <th>1698</th>\n",
       "      <td>2023-09-22 18:34:44</td>\n",
       "      <td>23.0</td>\n",
       "      <td>49.0</td>\n",
       "    </tr>\n",
       "    <tr>\n",
       "      <th>1699</th>\n",
       "      <td>2023-09-22 18:52:07</td>\n",
       "      <td>22.0</td>\n",
       "      <td>49.0</td>\n",
       "    </tr>\n",
       "    <tr>\n",
       "      <th>1700</th>\n",
       "      <td>2023-09-22 18:56:03</td>\n",
       "      <td>22.0</td>\n",
       "      <td>50.0</td>\n",
       "    </tr>\n",
       "    <tr>\n",
       "      <th>1701</th>\n",
       "      <td>2023-09-22 18:57:03</td>\n",
       "      <td>22.0</td>\n",
       "      <td>49.0</td>\n",
       "    </tr>\n",
       "  </tbody>\n",
       "</table>\n",
       "<p>1702 rows × 3 columns</p>\n",
       "</div>"
      ],
      "text/plain": [
       "               timestamp  temperature  humidity\n",
       "0    2023-09-18 09:10:05         23.0      53.0\n",
       "1    2023-09-18 09:10:30         23.0      52.0\n",
       "2    2023-09-18 09:12:05         23.0      53.0\n",
       "3    2023-09-18 09:12:26         23.0      52.0\n",
       "4    2023-09-18 09:12:40         23.0      53.0\n",
       "...                  ...          ...       ...\n",
       "1697 2023-09-22 18:34:33         23.0      48.0\n",
       "1698 2023-09-22 18:34:44         23.0      49.0\n",
       "1699 2023-09-22 18:52:07         22.0      49.0\n",
       "1700 2023-09-22 18:56:03         22.0      50.0\n",
       "1701 2023-09-22 18:57:03         22.0      49.0\n",
       "\n",
       "[1702 rows x 3 columns]"
      ]
     },
     "execution_count": 52,
     "metadata": {},
     "output_type": "execute_result"
    }
   ],
   "source": [
    "query = \"SELECT * FROM classroom.dht5\"\n",
    "dht_df = pd.read_sql_query(query, db_connection)\n",
    "dht_df.drop('index', axis=1, inplace=True)\n",
    "dht_df.order_by('')"
   ]
  },
  {
   "cell_type": "code",
   "execution_count": 40,
   "id": "048dbde2",
   "metadata": {},
   "outputs": [],
   "source": [
    "broker = 'gd772d7c.emqx.cloud'\n",
    "port = 1883\n",
    "topic = \"dht_temp\"\n",
    "client_id = f'python-mqtt-27'\n",
    "username = 'test'\n",
    "password = 'test'"
   ]
  },
  {
   "cell_type": "code",
   "execution_count": 41,
   "id": "be91c42b",
   "metadata": {},
   "outputs": [],
   "source": [
    "def connect_mqtt():\n",
    "    def on_connect(client, userdata, flags, rc):\n",
    "        if rc == 0:\n",
    "            print(\"Connected to MQTT Broker!\")\n",
    "        else:\n",
    "            print(\"Failed to connect, return code %d\\n\", rc)\n",
    "    # Set Connecting Client ID\n",
    "    client = mqtt_client.Client(client_id)\n",
    "    client.username_pw_set(username, password)\n",
    "    client.on_connect = on_connect\n",
    "    client.connect(broker, port)\n",
    "    return client"
   ]
  },
  {
   "cell_type": "code",
   "execution_count": 47,
   "id": "617172cf",
   "metadata": {},
   "outputs": [],
   "source": [
    " def publish(client):\n",
    "    msg_count = 1\n",
    "    while True:\n",
    "        time.sleep(1)\n",
    "        msg = '{\"msg\": \"%d\"}' % msg_count\n",
    "        result = client.publish(topic, msg)\n",
    "        # result: [0, 1]\n",
    "        status = result[0]\n",
    "        if status == 0:\n",
    "            print(f\"Send `{msg}` to topic `{topic}`\")\n",
    "        else:\n",
    "            print(f\"Failed to send message to topic {topic}\")\n",
    "        msg_count += 1\n",
    "        if msg_count > 3:\n",
    "            break"
   ]
  },
  {
   "cell_type": "code",
   "execution_count": null,
   "id": "12931716",
   "metadata": {},
   "outputs": [],
   "source": [
    "client = connect_mqtt()"
   ]
  },
  {
   "cell_type": "code",
   "execution_count": 49,
   "id": "072a132c",
   "metadata": {
    "scrolled": true
   },
   "outputs": [
    {
     "name": "stdout",
     "output_type": "stream",
     "text": [
      "Send `{\"msg\": \"1\"}` to topic `dht_temp`\n",
      "Send `{\"msg\": \"2\"}` to topic `dht_temp`\n",
      "Send `{\"msg\": \"3\"}` to topic `dht_temp`\n"
     ]
    }
   ],
   "source": [
    "publish(client)"
   ]
  },
  {
   "cell_type": "code",
   "execution_count": 76,
   "id": "4095706c",
   "metadata": {},
   "outputs": [
    {
     "data": {
      "text/plain": [
       "Timestamp('2023-09-18 09:10:05')"
      ]
     },
     "execution_count": 76,
     "metadata": {},
     "output_type": "execute_result"
    }
   ],
   "source": [
    "start = dht_df.iloc[0,0]\n",
    "seconds_in_day = 24 * 60 * 60\n",
    "start"
   ]
  },
  {
   "cell_type": "code",
   "execution_count": 77,
   "id": "896dd1d6",
   "metadata": {},
   "outputs": [
    {
     "data": {
      "text/html": [
       "<div>\n",
       "<style scoped>\n",
       "    .dataframe tbody tr th:only-of-type {\n",
       "        vertical-align: middle;\n",
       "    }\n",
       "\n",
       "    .dataframe tbody tr th {\n",
       "        vertical-align: top;\n",
       "    }\n",
       "\n",
       "    .dataframe thead th {\n",
       "        text-align: right;\n",
       "    }\n",
       "</style>\n",
       "<table border=\"1\" class=\"dataframe\">\n",
       "  <thead>\n",
       "    <tr style=\"text-align: right;\">\n",
       "      <th></th>\n",
       "      <th>timestamp</th>\n",
       "      <th>temperature</th>\n",
       "      <th>humidity</th>\n",
       "      <th>timedelta</th>\n",
       "    </tr>\n",
       "  </thead>\n",
       "  <tbody>\n",
       "    <tr>\n",
       "      <th>0</th>\n",
       "      <td>2023-09-18 09:10:05</td>\n",
       "      <td>23.0</td>\n",
       "      <td>53.0</td>\n",
       "      <td>0</td>\n",
       "    </tr>\n",
       "    <tr>\n",
       "      <th>1</th>\n",
       "      <td>2023-09-18 09:10:30</td>\n",
       "      <td>23.0</td>\n",
       "      <td>52.0</td>\n",
       "      <td>25</td>\n",
       "    </tr>\n",
       "    <tr>\n",
       "      <th>2</th>\n",
       "      <td>2023-09-18 09:12:05</td>\n",
       "      <td>23.0</td>\n",
       "      <td>53.0</td>\n",
       "      <td>120</td>\n",
       "    </tr>\n",
       "    <tr>\n",
       "      <th>3</th>\n",
       "      <td>2023-09-18 09:12:26</td>\n",
       "      <td>23.0</td>\n",
       "      <td>52.0</td>\n",
       "      <td>141</td>\n",
       "    </tr>\n",
       "    <tr>\n",
       "      <th>4</th>\n",
       "      <td>2023-09-18 09:12:40</td>\n",
       "      <td>23.0</td>\n",
       "      <td>53.0</td>\n",
       "      <td>155</td>\n",
       "    </tr>\n",
       "    <tr>\n",
       "      <th>...</th>\n",
       "      <td>...</td>\n",
       "      <td>...</td>\n",
       "      <td>...</td>\n",
       "      <td>...</td>\n",
       "    </tr>\n",
       "    <tr>\n",
       "      <th>1697</th>\n",
       "      <td>2023-09-22 18:34:33</td>\n",
       "      <td>23.0</td>\n",
       "      <td>48.0</td>\n",
       "      <td>379468</td>\n",
       "    </tr>\n",
       "    <tr>\n",
       "      <th>1698</th>\n",
       "      <td>2023-09-22 18:34:44</td>\n",
       "      <td>23.0</td>\n",
       "      <td>49.0</td>\n",
       "      <td>379479</td>\n",
       "    </tr>\n",
       "    <tr>\n",
       "      <th>1699</th>\n",
       "      <td>2023-09-22 18:52:07</td>\n",
       "      <td>22.0</td>\n",
       "      <td>49.0</td>\n",
       "      <td>380522</td>\n",
       "    </tr>\n",
       "    <tr>\n",
       "      <th>1700</th>\n",
       "      <td>2023-09-22 18:56:03</td>\n",
       "      <td>22.0</td>\n",
       "      <td>50.0</td>\n",
       "      <td>380758</td>\n",
       "    </tr>\n",
       "    <tr>\n",
       "      <th>1701</th>\n",
       "      <td>2023-09-22 18:57:03</td>\n",
       "      <td>22.0</td>\n",
       "      <td>49.0</td>\n",
       "      <td>380818</td>\n",
       "    </tr>\n",
       "  </tbody>\n",
       "</table>\n",
       "<p>1702 rows × 4 columns</p>\n",
       "</div>"
      ],
      "text/plain": [
       "               timestamp  temperature  humidity  timedelta\n",
       "0    2023-09-18 09:10:05         23.0      53.0          0\n",
       "1    2023-09-18 09:10:30         23.0      52.0         25\n",
       "2    2023-09-18 09:12:05         23.0      53.0        120\n",
       "3    2023-09-18 09:12:26         23.0      52.0        141\n",
       "4    2023-09-18 09:12:40         23.0      53.0        155\n",
       "...                  ...          ...       ...        ...\n",
       "1697 2023-09-22 18:34:33         23.0      48.0     379468\n",
       "1698 2023-09-22 18:34:44         23.0      49.0     379479\n",
       "1699 2023-09-22 18:52:07         22.0      49.0     380522\n",
       "1700 2023-09-22 18:56:03         22.0      50.0     380758\n",
       "1701 2023-09-22 18:57:03         22.0      49.0     380818\n",
       "\n",
       "[1702 rows x 4 columns]"
      ]
     },
     "execution_count": 77,
     "metadata": {},
     "output_type": "execute_result"
    }
   ],
   "source": [
    "dht_df['timedelta'] = dht_df['timestamp'].apply(lambda x: (x - start).days * seconds_in_day + (x - start).seconds)\n",
    "dht_df.sort_values('timedelta')"
   ]
  },
  {
   "cell_type": "code",
   "execution_count": 91,
   "id": "bbb1a0f0",
   "metadata": {},
   "outputs": [
    {
     "data": {
      "text/plain": [
       "(0.0, 70.0)"
      ]
     },
     "execution_count": 91,
     "metadata": {},
     "output_type": "execute_result"
    },
    {
     "data": {
      "image/png": "[encoded data removed]",
      "text/plain": [
       "<Figure size 640x480 with 1 Axes>"
      ]
     },
     "metadata": {},
     "output_type": "display_data"
    }
   ],
   "source": [
    "plt.plot(dht_df['timedelta'], dht_df['temperature'])\n",
    "plt.plot(dht_df['timedelta'], dht_df['humidity'])\n",
    "plt.ylim([0, 70])"
   ]
  },
  {
   "cell_type": "code",
   "execution_count": null,
   "id": "7457f0ae",
   "metadata": {},
   "outputs": [],
   "source": []
  }
 ],
 "metadata": {
  "kernelspec": {
   "display_name": "Python 3 (ipykernel)",
   "language": "python",
   "name": "python3"
  },
  "language_info": {
   "codemirror_mode": {
    "name": "ipython",
    "version": 3
   },
   "file_extension": ".py",
   "mimetype": "text/x-python",
   "name": "python",
   "nbconvert_exporter": "python",
   "pygments_lexer": "ipython3",
   "version": "3.10.9"
  }
 },
 "nbformat": 4,
 "nbformat_minor": 5
}
