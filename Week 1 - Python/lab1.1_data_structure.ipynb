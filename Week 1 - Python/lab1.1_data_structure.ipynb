{
 "cells": [
  {
   "cell_type": "markdown",
   "metadata": {
    "id": "YSfgCztMeGoo",
    "tags": []
   },
   "source": [
    "# Lab | Data Structures"
   ]
  },
  {
   "cell_type": "markdown",
   "metadata": {
    "id": "nfXW7LgueGos"
   },
   "source": [
    "## Exercise: Managing Customer Orders\n",
    "\n",
    "As part of a business venture, you are starting an online store that sells various products. To ensure smooth operations, you need to develop a program that manages customer orders and inventory.\n",
    "\n",
    "Follow the steps below to complete the exercise:\n",
    "\n",
    "1. Define a list called `products` that contains the following items: \"t-shirt\", \"mug\", \"hat\", \"book\", \"keychain\".\n",
    "\n",
    "2. Create an empty dictionary called `inventory`.\n",
    "\n",
    "3. Ask the user to input the quantity of each product available in the inventory. Use the product names from the `products` list as keys in the `inventory` dictionary and assign the respective quantities as values.\n",
    "\n",
    "4. Create an empty set called `customer_orders`.\n",
    "\n",
    "5. Ask the user to input the name of three products that a customer wants to order (from those in the products list, meaning three products out of \"t-shirt\", \"mug\", \"hat\", \"book\" or \"keychain\". Add each product name to the `customer_orders` set.\n",
    "\n",
    "6. Print the products in the `customer_orders` set.\n",
    "\n",
    "7. Calculate the following order statistics:\n",
    "   - Total Products Ordered: The total number of products in the `customer_orders` set.\n",
    "   - Percentage of Products Ordered: The percentage of products ordered compared to the total available products.\n",
    "   \n",
    "   Store these statistics in a tuple called `order_status`.\n",
    "\n",
    "8. Print the order statistics using the following format:\n",
    "   ```\n",
    "   Order Statistics:\n",
    "   Total Products Ordered: <total_products_ordered>\n",
    "   Percentage of Products Ordered: <percentage_ordered>%\n",
    "   ```\n",
    "\n",
    "9. Update the inventory by subtracting 1 from the quantity of each product. Modify the `inventory` dictionary accordingly.\n",
    "\n",
    "10. Print the updated inventory, displaying the quantity of each product on separate lines.\n",
    "\n",
    "Solve the exercise by implementing the steps using the Python concepts of lists, dictionaries, sets, and basic input/output operations."
   ]
  },
  {
   "cell_type": "code",
   "execution_count": 2,
   "metadata": {
    "id": "g-1HaC9JeGot",
    "outputId": "1e94422b-b93e-4b6b-b521-a89ecb560fb5"
   },
   "outputs": [
    {
     "name": "stdout",
     "output_type": "stream",
     "text": [
      "Insert the number of t-shirt available: 2\n",
      "Insert the number of mug available: 2\n",
      "Insert the number of hat available: 2\n",
      "Insert the number of book available: 2\n",
      "Insert the number of keychain available: 2\n",
      "{'t-shirt': 2, 'mug': 2, 'hat': 2, 'book': 2, 'keychain': 2}\n",
      "\n",
      "\n",
      "Please choose three products from the following list: ['t-shirt', 'mug', 'hat', 'book', 'keychain']\n",
      "1. mug\n",
      "2. hat\n",
      "3. mug\n",
      "\n",
      "Here are the products that you have ordered: {'mug', 'hat'}\n",
      "\n",
      "Order Statistics:\n",
      "Total Products Ordered:  2\n",
      "Percentage of Products Ordered:  20%\n",
      "\n",
      "-Inventory-\n",
      "t-shirt: 2\n",
      "mug: 1\n",
      "hat: 1\n",
      "book: 2\n",
      "keychain: 2\n"
     ]
    }
   ],
   "source": [
    "products = ['t-shirt', 'mug', 'hat', 'book', 'keychain']\n",
    "inventory = dict()\n",
    "\n",
    "for product in products:\n",
    "    n = int(input(f\"Insert the number of {product} available: \"))\n",
    "    inventory[product] = n\n",
    "print(inventory)\n",
    "\n",
    "\n",
    "customer_orders = set()\n",
    "\n",
    "print(f\"\\n\\nPlease choose three products from the following list: {products}\")\n",
    "for i in range(3):\n",
    "    picked = input(f\"{i + 1}. \")\n",
    "    while(picked not in products):\n",
    "        print(\"The input given is not a product, try again!\")\n",
    "        picked = input(f\"{i + 1}. \")\n",
    "    customer_orders.add(picked)\n",
    "print(\"\\nHere are the products that you have ordered:\", customer_orders)\n",
    "\n",
    "\n",
    "order_status = tuple((len(customer_orders), int(len(customer_orders)/sum(inventory.values())*100)))\n",
    "\n",
    "print(\"\\nOrder Statistics:\")\n",
    "print(\"Total Products Ordered: \", order_status[0])\n",
    "print(\"Percentage of Products Ordered: \", f\"{order_status[1]}%\")\n",
    "\n",
    "\n",
    "for product in customer_orders:\n",
    "    inventory[product] -= 1\n",
    "print(\"\\n-Inventory-\")\n",
    "for product in inventory.items():\n",
    "    print(f\"{product[0]}:\", product[1])\n",
    "\n"
   ]
  },
  {
   "cell_type": "code",
   "execution_count": null,
   "metadata": {},
   "outputs": [],
   "source": []
  }
 ],
 "metadata": {
  "colab": {
   "provenance": []
  },
  "kernelspec": {
   "display_name": "Python 3 (ipykernel)",
   "language": "python",
   "name": "python3"
  },
  "language_info": {
   "codemirror_mode": {
    "name": "ipython",
    "version": 3
   },
   "file_extension": ".py",
   "mimetype": "text/x-python",
   "name": "python",
   "nbconvert_exporter": "python",
   "pygments_lexer": "ipython3",
   "version": "3.10.9"
  }
 },
 "nbformat": 4,
 "nbformat_minor": 1
}
